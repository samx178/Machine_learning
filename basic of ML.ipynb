{
 "cells": [
  {
   "cell_type": "code",
   "execution_count": 1,
   "id": "28e03215",
   "metadata": {},
   "outputs": [],
   "source": [
    "my_name = \"Samarth\""
   ]
  },
  {
   "cell_type": "code",
   "execution_count": 3,
   "id": "2344629e",
   "metadata": {},
   "outputs": [],
   "source": [
    "list_1 = ['samarth', 'shivam',1,3,2 ]"
   ]
  },
  {
   "cell_type": "code",
   "execution_count": 4,
   "id": "1be0ddbb",
   "metadata": {},
   "outputs": [
    {
     "name": "stdout",
     "output_type": "stream",
     "text": [
      "['samarth', 'shivam', 1, 3, 2]\n"
     ]
    }
   ],
   "source": [
    "print(list_1)"
   ]
  },
  {
   "cell_type": "code",
   "execution_count": 5,
   "id": "b8b68fa9",
   "metadata": {},
   "outputs": [],
   "source": [
    "list_1.append('Raj')"
   ]
  },
  {
   "cell_type": "code",
   "execution_count": 6,
   "id": "4fc50c58",
   "metadata": {},
   "outputs": [
    {
     "name": "stdout",
     "output_type": "stream",
     "text": [
      "['samarth', 'shivam', 1, 3, 2, 'Raj']\n"
     ]
    }
   ],
   "source": [
    "print(list_1)"
   ]
  },
  {
   "cell_type": "code",
   "execution_count": 6,
   "id": "80a14a74",
   "metadata": {},
   "outputs": [
    {
     "name": "stdout",
     "output_type": "stream",
     "text": [
      "[1, 2, 3, 'Ram', 4, 5, 6, 'Krish']\n",
      "[1, 3, 4, 2, 4, 8]\n"
     ]
    }
   ],
   "source": [
    "# List: A list is data structure in python that is mutable or changeble and can have duplicate elements in them \n",
    "l1  = [1,2,3,4,5,6]\n",
    "l2 = [1,3,4,2,4,8]\n",
    "l1.append(\"Krish\") #it insert an element at the last of the list \n",
    "l1.insert(3,\"Ram\") #it insert an element at a desired index in the list\n",
    "sum(l2) #it add up all the integers in the list\n",
    "l1.pop #it remove the last element from the list\n",
    "print(l1)\n",
    "print(l2)"
   ]
  },
  {
   "cell_type": "code",
   "execution_count": null,
   "id": "0052ad67",
   "metadata": {},
   "outputs": [
    {
     "name": "stdout",
     "output_type": "stream",
     "text": [
      "{1, 2, 3, 4}\n"
     ]
    }
   ],
   "source": [
    "# Set: A set is an unordered data type that is iterable,mutable and has no duplicate elements isn them. This is based on a data structure that is know as hash table\n",
    "# In set there is noting like indexing.\n",
    "set_var = {1,2,3,4,4}\n",
    "print(set_var)\n",
    "s1 = {\"Irom man\",\"Thor\",\"Hulk\"}\n",
    "s2 = {\"Super man\",\"Iron man\",\"Thor\",}\n",
    "s2.difference_update(s1) #This remove all the elements from s2 that are also present in s1\n"
   ]
  },
  {
   "cell_type": "code",
   "execution_count": 4,
   "id": "c44587df",
   "metadata": {},
   "outputs": [
    {
     "name": "stdout",
     "output_type": "stream",
     "text": [
      "{'name': 'Samarth', 'age': 20, 'college': 'IIT Ghaziabad'}\n",
      "Samarth\n",
      "name\n",
      "age\n",
      "college\n",
      "Samarth\n",
      "20\n",
      "IIT Ghaziabad\n"
     ]
    }
   ],
   "source": [
    "\n",
    "#Dictionary: A dictionary is an unordered, changeable and indexed collection. No duplicate members.\n",
    "#It is indexed and does not have duplicate members.\n",
    "my_dict = {\n",
    "    \"name\":\"Samarth\",\n",
    "    \"age\":20,\n",
    "    \"college\":\"IIT Ghaziabad\"\n",
    "}  \n",
    "print(my_dict)\n",
    "print(my_dict[\"name\"])\n",
    "for x in my_dict:\n",
    "    print(x) #prints all the keys in the dictionary\n",
    "for x in my_dict.values():\n",
    "    print(x)\n",
    " "
   ]
  },
  {
   "cell_type": "code",
   "execution_count": 6,
   "id": "fcd1ebf5",
   "metadata": {},
   "outputs": [
    {
     "name": "stdout",
     "output_type": "stream",
     "text": [
      "{'carA': {'Mercedes': 1900}, 'carB': {'BMW': 2000}, 'carC': {'Audi': 2008}}\n"
     ]
    }
   ],
   "source": [
    "#Nested Dictionary\n",
    "car1 = {'Mercedes' :1900}\n",
    "car2 = {'BMW' : 2000}\n",
    "car3 = {'Audi' : 2008}\n",
    "car_type = {'carA': car1, 'carB': car2, 'carC': car3}\n",
    "print(car_type) "
   ]
  },
  {
   "cell_type": "code",
   "execution_count": null,
   "id": "bbc90fad",
   "metadata": {},
   "outputs": [],
   "source": [
    "#Tuple: A tuple is a collection which is ordered and unchangeable. Allows duplicate members."
   ]
  },
  {
   "cell_type": "code",
   "execution_count": 10,
   "id": "81abd428",
   "metadata": {},
   "outputs": [
    {
     "name": "stdout",
     "output_type": "stream",
     "text": [
      "Requirement already satisfied: numpy in c:\\users\\samarth\\appdata\\local\\programs\\python\\python313\\lib\\site-packages (2.3.2)\n",
      "Note: you may need to restart the kernel to use updated packages.\n"
     ]
    }
   ],
   "source": [
    "pip install numpy\n"
   ]
  },
  {
   "cell_type": "code",
   "execution_count": 1,
   "id": "670529d2",
   "metadata": {},
   "outputs": [],
   "source": [
    "import numpy as np\n",
    "import pandas as pd\n"
   ]
  },
  {
   "cell_type": "code",
   "execution_count": null,
   "id": "57661d10",
   "metadata": {},
   "outputs": [],
   "source": [
    "# Machine Learning is the sub domain of Artificial Intelligence and Deep learing and Gen AI are the sub domain of ML\n",
    "# Machine learing is the scientific study of algorithms and statistical models that computer systems use to perform a specific task without using explicit instructions, relying on patterns and inference instead. It is seen as a subset of artificial intelligence. Machine learning algorithms build a mathematical model based on sample data, known as \"training data\", in order to make predictions or decisions without being explicitly programmed to perform the task.\n",
    "#Data--->Model--->Predictions/Decisions\n",
    "#Gen AI are powered by large language models(LLM) that are trained on vast amounts of data to generate human-like text, images, or other content based on the input they receive. These models use deep learning techniques to understand and mimic the patterns found in the training data, allowing them to create new, original content that is contextually relevant and coherent.\n",
    "#There are two types of ML: Supervised and Unsupervised\n",
    "#Supervised learning: In supervised learning, the model is trained on a labeled dataset, which means that each training example is paired with an output label. The model learns to map inputs to the correct output based on this training data. Common algorithms used in supervised learning include linear regression, logistic regression, decision trees, and support vector machines. Supervised learning is commonly used for tasks such as classification (e.g., spam detection, image recognition) and regression (e.g., predicting house prices).\n",
    "#Unsupervised learning: In unsupervised learning, the model is trained on an unlabeled dataset, meaning that the training data does not have any associated output labels. The model tries to learn the underlying structure or patterns in the data without any guidance. Common algorithms used in unsupervised learning include k-means clustering, hierarchical clustering, and principal component analysis (PCA). Unsupervised learning is often used for tasks such as clustering (e.g., customer segmentation) and dimensionality reduction (e.g., feature extraction). "
   ]
  },
  {
   "cell_type": "code",
   "execution_count": 2,
   "id": "bf1923ee",
   "metadata": {},
   "outputs": [],
   "source": [
    "df = pd.DataFrame(np.arange(20).reshape(5,4),columns=['A','B','C','D'])"
   ]
  },
  {
   "cell_type": "code",
   "execution_count": 3,
   "id": "9b9bd4b9",
   "metadata": {},
   "outputs": [
    {
     "data": {
      "text/plain": [
       "<bound method NDFrame.head of     A   B   C   D\n",
       "0   0   1   2   3\n",
       "1   4   5   6   7\n",
       "2   8   9  10  11\n",
       "3  12  13  14  15\n",
       "4  16  17  18  19>"
      ]
     },
     "execution_count": 3,
     "metadata": {},
     "output_type": "execute_result"
    }
   ],
   "source": [
    "df.head"
   ]
  },
  {
   "cell_type": "code",
   "execution_count": 4,
   "id": "d8a1e84e",
   "metadata": {},
   "outputs": [
    {
     "data": {
      "text/plain": [
       "<bound method NDFrame.head of        A   B   C   D\n",
       "Row1   0   1   2   3\n",
       "Row2   4   5   6   7\n",
       "Row3   8   9  10  11\n",
       "Row4  12  13  14  15\n",
       "Row5  16  17  18  19>"
      ]
     },
     "execution_count": 4,
     "metadata": {},
     "output_type": "execute_result"
    }
   ],
   "source": [
    "df = pd.DataFrame(np.arange(0,20).reshape(5,4),index=['Row1','Row2','Row3','Row4','Row5'],columns=['A','B','C','D'])\n",
    "df.head"
   ]
  },
  {
   "cell_type": "code",
   "execution_count": 6,
   "id": "bd0fd619",
   "metadata": {},
   "outputs": [],
   "source": [
    "#if you want to convert your data set file to csv file then \n",
    "df.to_csv('my_data.csv')"
   ]
  },
  {
   "cell_type": "code",
   "execution_count": null,
   "id": "e65edd78",
   "metadata": {},
   "outputs": [
    {
     "data": {
      "text/html": [
       "<div>\n",
       "<style scoped>\n",
       "    .dataframe tbody tr th:only-of-type {\n",
       "        vertical-align: middle;\n",
       "    }\n",
       "\n",
       "    .dataframe tbody tr th {\n",
       "        vertical-align: top;\n",
       "    }\n",
       "\n",
       "    .dataframe thead th {\n",
       "        text-align: right;\n",
       "    }\n",
       "</style>\n",
       "<table border=\"1\" class=\"dataframe\">\n",
       "  <thead>\n",
       "    <tr style=\"text-align: right;\">\n",
       "      <th></th>\n",
       "      <th>A</th>\n",
       "      <th>B</th>\n",
       "    </tr>\n",
       "  </thead>\n",
       "  <tbody>\n",
       "    <tr>\n",
       "      <th>Row1</th>\n",
       "      <td>0</td>\n",
       "      <td>1</td>\n",
       "    </tr>\n",
       "    <tr>\n",
       "      <th>Row2</th>\n",
       "      <td>4</td>\n",
       "      <td>5</td>\n",
       "    </tr>\n",
       "  </tbody>\n",
       "</table>\n",
       "</div>"
      ],
      "text/plain": [
       "      A  B\n",
       "Row1  0  1\n",
       "Row2  4  5"
      ]
     },
     "execution_count": 10,
     "metadata": {},
     "output_type": "execute_result"
    }
   ],
   "source": [
    "#There are two ways of accessing the rows of a dataframe\n",
    "#1. Using iloc\n",
    "#2. Using loc\n",
    "\n",
    "df.iloc[0:2,0:2]#it will give the data of first two rows and first two columns\n"
   ]
  },
  {
   "cell_type": "code",
   "execution_count": 12,
   "id": "cadc580e",
   "metadata": {},
   "outputs": [
    {
     "data": {
      "text/plain": [
       "pandas.core.series.Series"
      ]
     },
     "execution_count": 12,
     "metadata": {},
     "output_type": "execute_result"
    }
   ],
   "source": [
    "df.loc['Row1'] #it will give the data of Row1\n",
    "type(df.loc['Row1']) #it will give the data type of Row1 which is pandas series"
   ]
  },
  {
   "cell_type": "code",
   "execution_count": null,
   "id": "8482b4e9",
   "metadata": {},
   "outputs": [],
   "source": []
  }
 ],
 "metadata": {
  "kernelspec": {
   "display_name": "Python 3",
   "language": "python",
   "name": "python3"
  },
  "language_info": {
   "codemirror_mode": {
    "name": "ipython",
    "version": 3
   },
   "file_extension": ".py",
   "mimetype": "text/x-python",
   "name": "python",
   "nbconvert_exporter": "python",
   "pygments_lexer": "ipython3",
   "version": "3.13.7"
  }
 },
 "nbformat": 4,
 "nbformat_minor": 5
}
